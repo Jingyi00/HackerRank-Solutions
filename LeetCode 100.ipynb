{
 "cells": [
  {
   "cell_type": "code",
   "execution_count": 16,
   "id": "26ae297d-1d2c-4818-b9b6-5f4fd2f4777c",
   "metadata": {},
   "outputs": [],
   "source": [
    "from typing import List"
   ]
  },
  {
   "cell_type": "markdown",
   "id": "831cdae5-87a6-4014-b054-909c1389c7ca",
   "metadata": {},
   "source": [
    "### Two Sum"
   ]
  },
  {
   "cell_type": "code",
   "execution_count": 1,
   "id": "fadefe23-294a-4012-9cef-e56da833a36f",
   "metadata": {},
   "outputs": [],
   "source": [
    "class Solution(object):\n",
    "    def twoSum(self, nums, target):\n",
    "        \"\"\"\n",
    "        :type nums: List[int]\n",
    "        :type target: int\n",
    "        :rtype: List[int]\n",
    "        \"\"\"\n",
    "        numMap = dict()\n",
    "        for i, num in enumerate(nums):\n",
    "            numMap[num] = i\n",
    "        for i, num in enumerate(nums):\n",
    "            complement = target - num\n",
    "            if complement in numMap and numMap[complement] != i:\n",
    "                return [i, numMap[complement]]\n",
    "        return []"
   ]
  },
  {
   "cell_type": "code",
   "execution_count": 3,
   "id": "9cebe695-db2a-45a6-9519-01abd390c0d8",
   "metadata": {},
   "outputs": [
    {
     "data": {
      "text/plain": [
       "[0, 1]"
      ]
     },
     "execution_count": 3,
     "metadata": {},
     "output_type": "execute_result"
    }
   ],
   "source": [
    "nums = [2,7,11,15]\n",
    "target = 9\n",
    "output_ = Solution().twoSum(nums, target)\n",
    "output_"
   ]
  },
  {
   "cell_type": "markdown",
   "id": "34f332fc-c984-4fb2-b3bd-3c276bc97b8d",
   "metadata": {},
   "source": [
    "### Anagram\n",
    "242.有效的字母异位词  \n",
    "给定两个字符串 s 和 t ，编写一个函数来判断 t 是否是 s 的字母异位词。\n",
    "\n",
    "示例 1: 输入: s = \"anagram\", t = \"nagaram\" 输出: true\n",
    "\n",
    "示例 2: 输入: s = \"rat\", t = \"car\" 输出: false\n",
    "\n",
    "说明: 你可以假设字符串只包含小写字母。\n",
    "\n",
    "\n",
    "* 时间复杂度: O(n)\n",
    "* 空间复杂度: O(1)"
   ]
  },
  {
   "cell_type": "code",
   "execution_count": 8,
   "id": "9f0d8c0d-4e17-44be-9a67-1e86d04c70e8",
   "metadata": {},
   "outputs": [],
   "source": [
    "# 定义一个数组，来记录字符串s里字符出现的次数。\n",
    "def isAnagram(self, s: str, t: str) -> bool:\n",
    "    \"\"\"Function to check if s and t are anagrams.\"\"\"\n",
    "    record = [0] * 26\n",
    "    for i in s:\n",
    "        # 并不需要记住字符a的ASCII，只要求出一个相对数值就可以了\n",
    "        # 统计字符串s中字符出现的次数\n",
    "        record[ord(i) - ord(\"a\")] += 1 #record the number of occurrence of letter i in the record[].\n",
    "    for i in t:\n",
    "        record[ord(i) - ord(\"a\")] -= 1\n",
    "    for i in range(26):\n",
    "        if record[i] != 0:\n",
    "            #record数组如果有的元素不为零0，说明字符串s和t 一定是谁多了字符或者谁少了字符。\n",
    "            return False\n",
    "    return True"
   ]
  },
  {
   "cell_type": "code",
   "execution_count": 7,
   "id": "a634917a-80bb-4bbd-9b82-245a34229924",
   "metadata": {},
   "outputs": [
    {
     "name": "stdout",
     "output_type": "stream",
     "text": [
      "ord of letter 'a':  97\n",
      "ord of letter 'b':  98\n",
      "[1, 0, 0, 0, 2, 0, 0, 0, 0, 0, 0, 0, 0, 0, 0, 0, 0, 0, 0, 0, 0, 0, 0, 0, 0, 0]\n"
     ]
    }
   ],
   "source": [
    "print(\"ord of letter 'a': \",ord(\"a\"))\n",
    "print(\"ord of letter 'b': \",ord(\"b\"))\n",
    "record = [0]*26\n",
    "for i in \"aee\":\n",
    "    record[ord(i) - ord(\"a\")] += 1\n",
    "print(record)"
   ]
  },
  {
   "cell_type": "markdown",
   "id": "a3bb66b5-2ce6-40ef-a75e-8f9d69fa9039",
   "metadata": {},
   "source": [
    "### Group Anagrams\n",
    "* [Q49](https://leetcode.com/problems/group-anagrams/?envType=study-plan-v2&envId=top-100-liked)"
   ]
  },
  {
   "cell_type": "code",
   "execution_count": 10,
   "id": "cd0ee5be-98b0-4f63-b6e5-58939623f09b",
   "metadata": {},
   "outputs": [],
   "source": [
    "class Solution(object):\n",
    "    def groupAnagrams(self, strs):\n",
    "        \"\"\"\n",
    "        :type strs: List[str]\n",
    "        :rtype: List[List[str]]\n",
    "        \"\"\"\n",
    "        d = {}\n",
    "        for i in range(len(strs)):\n",
    "            x = \"\".join(sorted(strs[i]))\n",
    "            if x not in d:\n",
    "                d[x] = [strs[i]]\n",
    "            else:\n",
    "                d[x].append(strs[i])\n",
    "        return d.values()"
   ]
  },
  {
   "cell_type": "code",
   "execution_count": 12,
   "id": "cca5976e-f5c7-4e0c-9292-3f35ef701339",
   "metadata": {},
   "outputs": [
    {
     "data": {
      "text/plain": [
       "dict_values([['eat', 'tea', 'ate'], ['tan', 'nat'], ['bat']])"
      ]
     },
     "execution_count": 12,
     "metadata": {},
     "output_type": "execute_result"
    }
   ],
   "source": [
    "strs = [\"eat\",\"tea\",\"tan\",\"ate\",\"nat\",\"bat\"]\n",
    "d = Solution().groupAnagrams(strs)\n",
    "d"
   ]
  },
  {
   "cell_type": "code",
   "execution_count": null,
   "id": "7c9bb0f7-8266-4dbb-a064-3a3cbe88cda1",
   "metadata": {},
   "outputs": [],
   "source": []
  },
  {
   "cell_type": "markdown",
   "id": "14fea796-b935-4078-96a1-bda59a1ef632",
   "metadata": {},
   "source": [
    "### 128. Longest Consecutive Sequence"
   ]
  },
  {
   "cell_type": "markdown",
   "id": "f848c2c2-d704-4e07-acf5-cb79ef7e87ba",
   "metadata": {},
   "source": [
    "[Solution Link](https://www.geeksforgeeks.org/longest-consecutive-subsequence/)\n",
    "The steps to solve the problem:\n",
    "- Create an empty hash.\n",
    "- Insert all array elements to hash.\n",
    "- Do the following for every element arr[i]\n",
    "    + Check if this element is the starting point of a subsequence. To check this, simply look for arr[i] – 1 in the hash, if not found, then this is the first element of a subsequence.\n",
    "    + If this element is the first element, then count the number of elements in the consecutive starting with this element. Iterate from arr[i] + 1 till the last element that can be found.\n",
    "    + If the count is more than the previous longest subsequence found, then update this."
   ]
  },
  {
   "cell_type": "code",
   "execution_count": 14,
   "id": "63f33c16-6c7d-4d1d-b3bd-4a449f876824",
   "metadata": {},
   "outputs": [],
   "source": [
    "class Solution(object):\n",
    "    def longestConsecutive(self, nums):\n",
    "        \"\"\"\n",
    "        :type nums: List[int]\n",
    "        :rtype: int\n",
    "        \"\"\"\n",
    "        s = set()\n",
    "        ans = 0\n",
    "        # Hash all the array elements\n",
    "        for ele in nums:\n",
    "            s.add(ele)\n",
    "        # check each possible sequence from the start then update optimal length\n",
    "        for i in range(len(nums)):\n",
    "            # if current element is the starting element of a sequence\n",
    "            if (nums[i]-1) not in s:\n",
    "                # Then check for next elements in the sequence\n",
    "                j = nums[i]\n",
    "                while(j in s):\n",
    "                    j += 1\n",
    "                # update  optimal length if this length is more\n",
    "                ans = max(ans, j-nums[i])\n",
    "        return ans"
   ]
  },
  {
   "cell_type": "markdown",
   "id": "458f7a9d-4c3e-4c91-acaf-c86bc881357b",
   "metadata": {},
   "source": [
    "Time complexity: O(N), Only one traversal is needed and the time complexity is O(n) under the assumption that hash insert and search takes O(1) time."
   ]
  },
  {
   "cell_type": "markdown",
   "id": "9dd0d329-931a-4e9b-80fb-aed8bc76d86f",
   "metadata": {},
   "source": [
    "### 560. Subarray Sum Equals K\n",
    "For each index i, we will do the following:\n",
    "- We will add the current element i.e. arr[i] to the accumulative sum.\n",
    "- We will calculate the prefix sum i.e. x-k, for which we need the occurrence.\n",
    "- We will add the occurrence of the prefix sum x-k i.e. mpp[x-k] to our answer.\n",
    "- Then we will store the current accumulative sum in the map increasing its occurrence by 1."
   ]
  },
  {
   "cell_type": "code",
   "execution_count": 39,
   "id": "ace9c2c4-0e41-4460-842f-a6808ef49625",
   "metadata": {},
   "outputs": [],
   "source": [
    "class Solution:\n",
    "    def subarraySum(self, nums: List[int], k: int) -> int:\n",
    "        d = {}\n",
    "        acc = count = 0\n",
    "        for num in nums:\n",
    "            acc += num\n",
    "            # If acc equals k, count should be incremented. \n",
    "            if acc == k:\n",
    "                count += 1\n",
    "            # If acc - k got, we should increment the ccount by hashmap[acc - k].\n",
    "            if acc - k in d:\n",
    "                count += d[acc-k]\n",
    "            # Create a a hashmap to store the cumulative sum acc and the number of times the same sum occurs. \n",
    "            if acc in d:\n",
    "                d[acc] += 1\n",
    "            else:\n",
    "                d[acc] = 1\n",
    "        return count"
   ]
  },
  {
   "cell_type": "code",
   "execution_count": 40,
   "id": "a65cc9d1-40e4-4f85-926e-b690fc8a3a42",
   "metadata": {},
   "outputs": [],
   "source": [
    "class Solution(object):\n",
    "    def subarraySum(self, nums, k):\n",
    "        \"\"\"\n",
    "        :type nums: List[int]\n",
    "        :type k: int\n",
    "        :rtype: int\n",
    "        \"\"\"\n",
    "        count = 0\n",
    "        sums = 0\n",
    "        d = dict()\n",
    "        d[0] = 1 # set the value of 0 as 1 on the map because when sums=k, d.get(sums-k,0)=1\n",
    "        \n",
    "        for i in range(len(nums)):\n",
    "            sums += nums[i]\n",
    "            count += d.get(sums-k,0) # return 0 if 'sums-k' is not found in d\n",
    "            d[sums] = d.get(sums,0) + 1\n",
    "            print(f\"d:{d}\")\n",
    "        \n",
    "        return(count)"
   ]
  },
  {
   "cell_type": "code",
   "execution_count": 41,
   "id": "5db2b6e0-3e25-4437-9941-691f5901a75e",
   "metadata": {},
   "outputs": [
    {
     "name": "stdout",
     "output_type": "stream",
     "text": [
      "d:{0: 1, 1: 1}\n",
      "d:{0: 1, 1: 1, 2: 1}\n",
      "d:{0: 1, 1: 1, 2: 1, 3: 1}\n",
      "2\n"
     ]
    }
   ],
   "source": [
    "nums = [1,1,1]\n",
    "k = 2\n",
    "print(Solution().subarraySum(nums, k))"
   ]
  },
  {
   "cell_type": "code",
   "execution_count": 42,
   "id": "02154d30-bd95-432c-83d6-6a65c1bee3a8",
   "metadata": {},
   "outputs": [
    {
     "name": "stdout",
     "output_type": "stream",
     "text": [
      "d:{0: 1, 1: 1}\n",
      "d:{0: 1, 1: 1, 3: 1}\n",
      "d:{0: 1, 1: 1, 3: 1, 6: 1}\n",
      "2\n"
     ]
    }
   ],
   "source": [
    "nums = [1,2,3]\n",
    "k = 3\n",
    "print(Solution().subarraySum(nums, k))"
   ]
  },
  {
   "cell_type": "code",
   "execution_count": null,
   "id": "f37a7ba0-fd48-40ea-ae2e-6b7945f91b80",
   "metadata": {},
   "outputs": [],
   "source": []
  }
 ],
 "metadata": {
  "kernelspec": {
   "display_name": "Python 3 (ipykernel)",
   "language": "python",
   "name": "python3"
  },
  "language_info": {
   "codemirror_mode": {
    "name": "ipython",
    "version": 3
   },
   "file_extension": ".py",
   "mimetype": "text/x-python",
   "name": "python",
   "nbconvert_exporter": "python",
   "pygments_lexer": "ipython3",
   "version": "3.12.3"
  }
 },
 "nbformat": 4,
 "nbformat_minor": 5
}
