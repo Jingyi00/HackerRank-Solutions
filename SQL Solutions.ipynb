{
 "cells": [
  {
   "cell_type": "markdown",
   "id": "e92b1c3c-a78e-4317-a824-b25776de02c8",
   "metadata": {},
   "source": [
    "## TOC:\n",
    "* [Binary Tree Nodes](#binary-tree-nodes)\n",
    "* [Occupation - PIVOT](#occup)\n",
    "* [THE PADS - CONCAT](#the_pads)\n",
    "* [New Companies](#new_comps)"
   ]
  },
  {
   "cell_type": "markdown",
   "id": "80b5d5f5-132a-4976-b137-9f5e3e549b4c",
   "metadata": {
    "jp-MarkdownHeadingCollapsed": true
   },
   "source": [
    "### Binary Tree Nodes<a class=\"anchor\" id=\"binary-tree-nodes\"></a>"
   ]
  },
  {
   "cell_type": "markdown",
   "id": "fe95f837-129e-4325-af1f-ed9c1c2e1129",
   "metadata": {},
   "source": [
    "- [Question Link in HackerRank](https://www.hackerrank.com/challenges/binary-search-tree-1?isFullScreen=true)\n",
    "``` mysql\n",
    "/*\n",
    "    Logics:\n",
    "    CASE WHEN <there is no parent> Then 'Root'\n",
    "         WHEN <at least one node has this node as a parent> THEN 'Inner'\n",
    "         ELSE <not a parent and no nodes have this as a parent> Then 'Leaf'\n",
    "    END\n",
    "*/\n",
    "select n,\n",
    "case \n",
    "when p is null then 'Root'\n",
    "when n in (select distinct(p) from bst) then 'Inner'\n",
    "else 'Leaf'\n",
    "end\n",
    "from bst\n",
    "order by n;\n",
    "```"
   ]
  },
  {
   "cell_type": "code",
   "execution_count": null,
   "id": "64fa17de-f958-48b3-8f28-60ee94a0bafb",
   "metadata": {},
   "outputs": [],
   "source": []
  },
  {
   "cell_type": "markdown",
   "id": "56f34ec5-33bd-41ee-8177-efd1626da96d",
   "metadata": {
    "jp-MarkdownHeadingCollapsed": true
   },
   "source": [
    "### Occupations<a class=\"anchor\" id=\"occup\"></a>  \n",
    "[Question Link in HackerRank](https://www.hackerrank.com/challenges/binary-search-tree-1?isFullScreen=true)"
   ]
  },
  {
   "cell_type": "markdown",
   "id": "0e936c1b-1e8b-41a8-a39f-39a6dcd55559",
   "metadata": {},
   "source": [
    "----------\n",
    "```sql\n",
    "-- MS SQL Server Solution\n",
    "Select Doctor, Professor, Singer, Actor from (\n",
    " SELECT  name, \n",
    "               occupation,\n",
    "        ROW_NUMBER() OVER (PARTITION BY occupation ORDER BY name) AS row_number\n",
    "      FROM OCCUPATIONS\n",
    ")dt\n",
    "PIVOT (\n",
    "    MAX(name)\n",
    "    FOR [Occupation] IN ([Doctor],  [Professor],\n",
    "                       [Singer],  [Actor])\n",
    ")pt\n",
    "ORDER BY row_number;\n",
    "```"
   ]
  },
  {
   "cell_type": "markdown",
   "id": "c0ef8552-d4d9-44b2-a067-5801c782e160",
   "metadata": {},
   "source": [
    "------\n",
    "```sql\n",
    "-- 2. MySQL Solution\n",
    "-- There's no pivot function in MySQL, we can use CASE WHEN instead.\n",
    "WITH ranking_table AS(\n",
    "  SELECT name,\n",
    "         occupation,\n",
    "         DENSE_RANK() OVER (PARTITION BY occupation ORDER BY name) AS ranks\n",
    "  FROM occupations\n",
    ")\n",
    "SELECT MAX(CASE WHEN occupation = 'Doctor' THEN name END) AS doctor,\n",
    "       MAX(CASE WHEN occupation = 'Professor' THEN name END) AS professor,\n",
    "       MAX(CASE WHEN occupation = 'Singer' THEN name END) AS singer,\n",
    "       MAX(CASE WHEN occupation = 'Actor' THEN name END) AS actor\n",
    "FROM ranking_table\n",
    "GROUP BY ranks;\n",
    "```"
   ]
  },
  {
   "cell_type": "markdown",
   "id": "06cfb72c-edc0-4912-aa68-ffeb9a755290",
   "metadata": {},
   "source": [
    "Notes 1: Differences between RANK() and DENSE_RANK()  \n",
    "* `RANK() OVER (PARTITION BY ... ORDER BY ...)`: 1, 1, 3, ...\n",
    "  * The use of the ORDER BY clause is necessary for using the RANK function.\n",
    "  * PARTITION BY clause can be optional.\n",
    "  * If two records share identical numerical values - they will also share a similar ranking value.\n",
    " \n",
    "* `DENSE_RANK() OVER()`: 1, 1, 2, ...\n",
    "  * It produces a Rank continuously without any gap.\n",
    "  * Rows with identical values receive the same Rank.\n",
    "  * The Rank of subsequent rows increases by one (within a PARTITION).\n",
    "\n",
    "Notes 2: When do we use `MAX` with `CASE WHEN` in mysql ?\n",
    "* The CASE WHEN spreads a column of data out across multiple columns making it diagonal\n",
    "* The MAX compresses the diagonal data to one row, completing the rotation from vertical to horizontal\n",
    "* Thease operations must be done in \"vertical, diagonal, horizontal\" order hence why the MAX(CASE WHEN..) so the case when is done first\n",
    "----"
   ]
  },
  {
   "cell_type": "markdown",
   "id": "d44b1b9f-1ab2-481e-b57b-8288dc91b3ea",
   "metadata": {},
   "source": []
  },
  {
   "cell_type": "code",
   "execution_count": null,
   "id": "87ae59ff-1dc7-4c61-9b64-d8cd51dbfd03",
   "metadata": {},
   "outputs": [],
   "source": []
  },
  {
   "cell_type": "markdown",
   "id": "8118ab83-d7db-4ad9-b47f-4613bf64b039",
   "metadata": {},
   "source": [
    "### The Pads<a class=\"anchor\" id=\"the_pads\"></a>  "
   ]
  },
  {
   "cell_type": "markdown",
   "id": "d01f98b7-80a1-4aaf-9b85-64472a9af1c8",
   "metadata": {},
   "source": [
    "```sql\n",
    "-- MySQL\n",
    "SELECT CONCAT(Name, \"(\", LEFT(Occupation, 1), \")\") name_prof\n",
    "from Occupations\n",
    "order by name_prof;\n",
    "\n",
    "SELECT CONCAT('There are a total of ',COUNT(OCCUPATION),' ',LOWER(OCCUPATION),'s.')\n",
    "FROM OCCUPATIONS\n",
    "GROUP BY OCCUPATION\n",
    "ORDER BY COUNT(OCCUPATION), OCCUPATION;\n",
    "```"
   ]
  },
  {
   "cell_type": "code",
   "execution_count": null,
   "id": "74bdc6d7-584c-44f3-81b2-e52c527bb105",
   "metadata": {},
   "outputs": [],
   "source": []
  },
  {
   "cell_type": "code",
   "execution_count": null,
   "id": "b759947a-62df-4b5f-9949-e5044393622f",
   "metadata": {},
   "outputs": [],
   "source": []
  },
  {
   "cell_type": "markdown",
   "id": "908fe269-639d-40bd-b2f7-343286f63587",
   "metadata": {},
   "source": [
    "```sql\n",
    "--- Sandbox\n",
    "-- INIT database\n",
    "CREATE TABLE OCCUPATIONS (\n",
    "  Name VARCHAR(100),\n",
    "  Occupation VARCHAR(255)\n",
    ");\n",
    "\n",
    "INSERT INTO Occupations(Name, Occupation) VALUES ('Julia', 'Actor');\n",
    "INSERT INTO Occupations(Name, Occupation) VALUES ('Maria', 'Actor');\n",
    "INSERT INTO Occupations(Name, Occupation) VALUES ('Ashley', 'Professor');\n",
    "INSERT INTO Occupations(Name, Occupation) VALUES ('Belvet', 'Professor');\n",
    "INSERT INTO Occupations(Name, Occupation) VALUES ('Britney', 'Professor');\n",
    "\n",
    "-- QUERY database\n",
    "SELECT Occupation, count(Occupation)\n",
    "from OCCUPATIONS\n",
    "Group BY Occupation\n",
    "ORDER BY COUNT(OCCUPATION), OCCUPATION;\n",
    "\n",
    "select concat(\"There\", 1, \"are\") concat;\n",
    "\n",
    "SELECT CONCAT('There are a total of ',COUNT(OCCUPATION),' ',LOWER(OCCUPATION),'s.') concat\n",
    "FROM OCCUPATIONS\n",
    "GROUP BY OCCUPATION\n",
    "ORDER BY COUNT(OCCUPATION), OCCUPATION;\n",
    "```"
   ]
  },
  {
   "cell_type": "code",
   "execution_count": null,
   "id": "7c4eb5ea-cff9-4e19-8ab4-db8857ea1040",
   "metadata": {},
   "outputs": [],
   "source": []
  },
  {
   "cell_type": "markdown",
   "id": "43ec4c34-cf8d-4eb8-b445-f7504a264ff3",
   "metadata": {},
   "source": [
    "### New Companies<a class=\"anchor\" id=\"new_comps\"></a>  "
   ]
  },
  {
   "cell_type": "markdown",
   "id": "14e408a8-d5bd-49f7-8349-9ee2b5e224aa",
   "metadata": {},
   "source": [
    "```sql\n",
    "--- Solution 1\n",
    "SELECT COMPANY_CODE, FOUNDER,\n",
    "(SELECT COUNT(DISTINCT LEAD_MANAGER_CODE) FROM LEAD_MANAGER WHERE COMPANY_CODE = C.COMPANY_CODE),\n",
    "(SELECT COUNT(DISTINCT SENIOR_MANAGER_CODE) FROM SENIOR_MANAGER WHERE COMPANY_CODE = C.COMPANY_CODE),\n",
    "(SELECT COUNT(DISTINCT MANAGER_CODE) FROM MANAGER WHERE COMPANY_CODE = C.COMPANY_CODE),\n",
    "(SELECT COUNT(DISTINCT EMPLOYEE_CODE) FROM EMPLOYEE WHERE COMPANY_CODE = C.COMPANY_CODE)\n",
    "FROM COMPANY C\n",
    "ORDER BY COMPANY_CODE;\n",
    "```"
   ]
  },
  {
   "cell_type": "markdown",
   "id": "8c802a5d-e5da-4f00-b05d-df4f01b6684c",
   "metadata": {},
   "source": [
    "```sql\n",
    "--- Solution 2\n",
    "select c.company_code, c.founder,\n",
    "       count(distinct l.lead_manager_code),\n",
    "       count(distinct s.senior_manager_code),\n",
    "       count(distinct m.manager_code),\n",
    "       count(distinct e.employee_code)\n",
    "from Company as c \n",
    "join Lead_Manager as l \n",
    "on c.company_code = l.company_code\n",
    "join Senior_Manager as s\n",
    "on l.lead_manager_code = s.lead_manager_code\n",
    "join Manager as m \n",
    "on m.senior_manager_code = s.senior_manager_code\n",
    "join Employee as e\n",
    "on e.manager_code = m.manager_code\n",
    "group by c.company_code, c.founder\n",
    "order by c.company_code;\n",
    "```"
   ]
  },
  {
   "cell_type": "code",
   "execution_count": null,
   "id": "af7f100f-4b86-4b33-b056-824d4c65b824",
   "metadata": {},
   "outputs": [],
   "source": []
  }
 ],
 "metadata": {
  "kernelspec": {
   "display_name": "Python 3 (ipykernel)",
   "language": "python",
   "name": "python3"
  },
  "language_info": {
   "codemirror_mode": {
    "name": "ipython",
    "version": 3
   },
   "file_extension": ".py",
   "mimetype": "text/x-python",
   "name": "python",
   "nbconvert_exporter": "python",
   "pygments_lexer": "ipython3",
   "version": "3.12.3"
  }
 },
 "nbformat": 4,
 "nbformat_minor": 5
}
